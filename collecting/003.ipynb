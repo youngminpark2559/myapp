{
 "cells": [
  {
   "cell_type": "code",
   "execution_count": 4,
   "metadata": {},
   "outputs": [],
   "source": [
    "import requests,operator,pandas,glob2\n",
    "from bs4 import BeautifulSoup\n",
    "from datetime import datetime"
   ]
  },
  {
   "cell_type": "code",
   "execution_count": 9,
   "metadata": {},
   "outputs": [],
   "source": [
    "def crawlingData(date,pageCount):\n",
    "    now=datetime.now()\n",
    "    l=[]\n",
    "    for pagecount in range(1,int(pageCount)):\n",
    "        r=requests.get(\"http://news.naver.com/main/list.nhn?mode=LSD&mid=sec&sid1=100&date=\"\\\n",
    "                    +str(date)+\"&page=\"+str(pageCount))\n",
    "        c=r.content\n",
    "        soup=BeautifulSoup(c,\"html.parser\")\n",
    "        all=soup.find_all(\"li\")\n",
    "        for item in all:\n",
    "            for item2 in item.find_all(\"dl\"):\n",
    "                d={}\n",
    "                try:\n",
    "                    linkTag=item2.find(\"dt\",{\"class\":\"\"}).find(\"a\")\n",
    "                    d[\"LinkSrc\"]=linkTag[\"href\"]\n",
    "                    d[\"Title\"]=linkTag.text\\\n",
    "                                    .replace(\"\\t\",\"\")\\\n",
    "                                    .replace(\"\\n\",\"\")\\\n",
    "                                    .replace(\",\",\"\")\\\n",
    "                                    .replace('\"',\"\")\\\n",
    "                                    .replace(\"\\r\",\"\")[1:len(linkTag.text)+1]\n",
    "                except:    \n",
    "                    d[\"LinkSrc\"]=\"None\"\n",
    "                    d[\"Title\"]=\"None\"\n",
    "                    \n",
    "                try:\n",
    "                    contentTag=item2.find(\"dd\")\n",
    "                    d[\"Content\"]=\\\n",
    "                    contentTag.text\\\n",
    "                            .replace(\"\\t\",\"\")\\\n",
    "                            .replace(\"\\n\",\"\")\\\n",
    "                            .replace(\"\\r\",\"\")\\\n",
    "                            .replace(\",\",\"\")\\\n",
    "                            .replace('\"',\"\")\\\n",
    "                            .split(\"…\")[0]\n",
    "                \n",
    "                    d[\"Company\"]=contentTag.find(\"span\",{\"class\":\"writing\"}).text\n",
    "                    d[\"Date\"]=contentTag.find(\"span\",{\"class\":\"date\"}).text\n",
    "#                     print(d[\"Content\"])\n",
    "                except:\n",
    "                    d[\"Content\"]=\"None\"\n",
    "                    d[\"Company\"]=\"None\"\n",
    "                    d[\"Date\"]=\"None\"\n",
    "                    \n",
    "                try:\n",
    "                    imgTag=item2.find(\"dt\",{\"class\":\"photo\"}).find(\"img\")\n",
    "                    d[\"imgSrc\"]=imgTag[\"src\"]\n",
    "                except:\n",
    "                    d[\"imgSrc\"]=\"No image\"\n",
    "                    \n",
    "                l.append(d)\n",
    "                \n",
    "    df=pandas.DataFrame(l)\n",
    "    df.to_csv('%s-%s-%s-%s-%s-%s.csv'\\\n",
    "             %(now.year,now.month,now.day,now.hour,now.minute,now.second)\\\n",
    "             ,encoding='utf-8-sig'\\\n",
    "             ,index=False)\n",
    "    print(df)\n",
    "    print(\"get datafile and save data successfully\")\n",
    "    "
   ]
  },
  {
   "cell_type": "code",
   "execution_count": 6,
   "metadata": {},
   "outputs": [],
   "source": [
    "def loadFile(fileName):\n",
    "    outputFileName=checkFileName(fileName)\n",
    "    if outputFileName is not -1:\n",
    "        df=pandas.read_csv(outputFileName)\n",
    "        content=df[\"Content\"]\n",
    "        title=df[\"Title\"]\n",
    "        company=df[\"Company\"]\n",
    "        print(company)\n",
    "        print(\"csv fIle loaded successfully\")\n",
    "    else:\n",
    "        print(\"error during csv file load\")    "
   ]
  },
  {
   "cell_type": "code",
   "execution_count": 7,
   "metadata": {},
   "outputs": [],
   "source": [
    "def checkFileName(fileName):\n",
    "    now=datetime.now()\n",
    "    if len(glob2.glob(\"*.csv\"))==0:\n",
    "        print(\"No file found in this directory\")\n",
    "        return -1\n",
    "    else:\n",
    "        if fileName==\"all\":\n",
    "            result=[]\n",
    "            for i in glob2.glob(\"*.csv\"):\n",
    "                result.append(pandas.read_csv(i))\n",
    "            outputFileName='%s-%s-%s-%s-%s-%s-merging.csv'\\\n",
    "                        %(now.year,now.month,now.day,now.hour,now.minute,now.second)\n",
    "            resultDf=pandas.concat(result,ignore_index=True)\n",
    "            resultDf.to_csv(outputFileName,encoding='utf-8-sig')\n",
    "            return outputFileName\n",
    "        else:\n",
    "            return fileName"
   ]
  },
  {
   "cell_type": "code",
   "execution_count": null,
   "metadata": {},
   "outputs": [],
   "source": [
    "def mainSetting():\n",
    "    while(1):\n",
    "        kb=input(\"input exit or crawling or loadAll or load : \")\n",
    "        if kb==\"exit\":\n",
    "            break\n",
    "        elif kb==\"crawling\":\n",
    "            date=input(\"input news date(format:20170101) : \")\n",
    "            page=input(\"input news page(format:4) : \")\n",
    "            crawlingData(date,page)\n",
    "            break\n",
    "        elif kb==\"loadAll\":\n",
    "            loadFile(\"all\")\n",
    "            break\n",
    "        elif kb==\"load\":\n",
    "            fileName=input(\"input your csv file name: \")\n",
    "            loadFile(fileName)\n",
    "            break\n",
    "        else:\n",
    "            print(\"command is not defined\")\n",
    "            break\n",
    "mainSetting()            "
   ]
  },
  {
   "cell_type": "code",
   "execution_count": null,
   "metadata": {},
   "outputs": [],
   "source": []
  },
  {
   "cell_type": "code",
   "execution_count": null,
   "metadata": {},
   "outputs": [],
   "source": []
  },
  {
   "cell_type": "code",
   "execution_count": null,
   "metadata": {},
   "outputs": [],
   "source": []
  },
  {
   "cell_type": "code",
   "execution_count": null,
   "metadata": {},
   "outputs": [],
   "source": []
  },
  {
   "cell_type": "code",
   "execution_count": null,
   "metadata": {},
   "outputs": [],
   "source": []
  }
 ],
 "metadata": {
  "kernelspec": {
   "display_name": "Python 3",
   "language": "python",
   "name": "python3"
  },
  "language_info": {
   "codemirror_mode": {
    "name": "ipython",
    "version": 3
   },
   "file_extension": ".py",
   "mimetype": "text/x-python",
   "name": "python",
   "nbconvert_exporter": "python",
   "pygments_lexer": "ipython3",
   "version": "3.6.4"
  }
 },
 "nbformat": 4,
 "nbformat_minor": 2
}
