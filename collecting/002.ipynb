{
 "cells": [
  {
   "cell_type": "code",
   "execution_count": 1,
   "metadata": {},
   "outputs": [],
   "source": [
    "import requests\n",
    "from bs4 import BeautifulSoup"
   ]
  },
  {
   "cell_type": "code",
   "execution_count": 12,
   "metadata": {},
   "outputs": [
    {
     "name": "stdout",
     "output_type": "stream",
     "text": [
      "한국당 개헌 로드맵 공개…\"6월 여야 합의·9월 국민투표\"\n",
      "\"김정은 옆에 선 아이린…100% 의도된 자리 배치\"\n",
      "\"김정은 방중 후 北노동자 중국 철수 멈춰…파견도 재개\"\n",
      "발언하는 박주선\n",
      "인사 나누는 김성태-이은재\n",
      "유럽서 급증하는 'E형간염' 한국서도 매년 60명 발병\n",
      "김종대 \"군인 정원 정할 때 국무회의 거치도록\"…법안 발의\n",
      "김성태 '개헌 협상' \"여야 원내대표와 청와대 회동\" 제안\n",
      "윤장현 “광주시장 불출마”…일주만에 심경변화, 왜?\n",
      "김성태 '박근혜 전 대통령도 인권 있어'\n"
     ]
    }
   ],
   "source": [
    "r=requests.get(\"http://news.naver.com/main/list.nhn?mode=LSD&mid=sec&sid1=100\")\n",
    "c=r.content\n",
    "soup=BeautifulSoup(c,\"html.parser\")\n",
    "\n",
    "all=soup.find(\"ul\",{\"class\":\"type06_headline\"})\n",
    "all2=all.find_all(\"li\")\n",
    "\n",
    "for item in all2:\n",
    "    title=item.find(\"dt\",{\"class\":\"\"}).text.replace(\"\\t\",\"\").replace(\"\\n\",\"\")\n",
    "    modifiedTitle=title[2:len(title)+1]\n",
    "    print(modifiedTitle)"
   ]
  },
  {
   "cell_type": "code",
   "execution_count": 14,
   "metadata": {},
   "outputs": [
    {
     "name": "stdout",
     "output_type": "stream",
     "text": [
      "http://imgnews.naver.net/image/thumb/437/2018/04/04/178702.jpg?type=nf106_72\n",
      "http://imgnews.naver.net/image/thumb/025/2018/04/04/2810512.jpg?type=nf106_72\n",
      "http://imgnews.naver.net/image/thumb/421/2018/04/04/3297462.jpg?type=nf106_72\n",
      "http://imgnews.naver.net/image/thumb/001/2018/04/04/10002619.jpg?type=nf106_72\n",
      "http://imgnews.naver.net/image/thumb/421/2018/04/04/3297461.jpg?type=nf106_72\n",
      "http://imgnews.naver.net/image/thumb/421/2018/04/04/3297460.jpg?type=nf106_72\n",
      "http://imgnews.naver.net/image/thumb/001/2018/04/04/10002617.jpg?type=nf106_72\n",
      "No image\n",
      "http://imgnews.naver.net/image/thumb/016/2018/04/04/1375457.jpg?type=nf106_72\n",
      "http://imgnews.naver.net/image/thumb/421/2018/04/04/3297457.jpg?type=nf106_72\n"
     ]
    }
   ],
   "source": [
    "def getImageSrc():\n",
    "    dl=all.find_all(\"dl\")\n",
    "    for item2 in dl:\n",
    "        try:\n",
    "            img=item2.find(\"dt\",{\"class\":\"photo\"}).find(\"img\")\n",
    "            print(img[\"src\"])\n",
    "        except:\n",
    "            print(\"No image\")\n",
    "\n",
    "getImageSrc()            "
   ]
  },
  {
   "cell_type": "code",
   "execution_count": 15,
   "metadata": {},
   "outputs": [
    {
     "name": "stdout",
     "output_type": "stream",
     "text": [
      "http://news.naver.com/main/read.nhn?mode=LSD&mid=sec&sid1=100&oid=437&aid=0000178702\n",
      " 한국당 개헌 로드맵 공개…\"6월 여야 합의·9월 국민투표\"\n",
      "http://news.naver.com/main/read.nhn?mode=LSD&mid=sec&sid1=100&oid=025&aid=0002810512\n",
      " \"김정은 옆에 선 아이린…100% 의도된 자리 배치\"\n",
      "http://news.naver.com/main/read.nhn?mode=LSD&mid=sec&sid1=100&oid=421&aid=0003297462\n",
      " \"김정은 방중 후 北노동자 중국 철수 멈춰…파견도 재개\"\n",
      "http://news.naver.com/main/read.nhn?mode=LSD&mid=sec&sid1=100&oid=001&aid=0010002619\n",
      " 발언하는 박주선\n",
      "http://news.naver.com/main/read.nhn?mode=LSD&mid=sec&sid1=100&oid=421&aid=0003297461\n",
      " 인사 나누는 김성태-이은재\n",
      "http://news.naver.com/main/read.nhn?mode=LSD&mid=sec&sid1=100&oid=421&aid=0003297460\n",
      " 유럽서 급증하는 'E형간염' 한국서도 매년 60명 발병\n",
      "http://news.naver.com/main/read.nhn?mode=LSD&mid=sec&sid1=100&oid=001&aid=0010002617\n",
      " 김종대 \"군인 정원 정할 때 국무회의 거치도록\"…법안 발의\n",
      "http://news.naver.com/main/read.nhn?mode=LSD&mid=sec&sid1=100&oid=032&aid=0002861923\n",
      " 김성태 '개헌 협상' \"여야 원내대표와 청와대 회동\" 제안\n",
      "http://news.naver.com/main/read.nhn?mode=LSD&mid=sec&sid1=100&oid=016&aid=0001375457\n",
      " 윤장현 “광주시장 불출마”…일주만에 심경변화, 왜?\n",
      "http://news.naver.com/main/read.nhn?mode=LSD&mid=sec&sid1=100&oid=421&aid=0003297457\n",
      " 김성태 '박근혜 전 대통령도 인권 있어'\n"
     ]
    }
   ],
   "source": [
    "def getLinkAndTitle():\n",
    "    dl=all.find_all(\"dl\")\n",
    "    for item2 in dl:\n",
    "        link=item2.find(\"dt\",{\"class\":\"\"}).find(\"a\")\n",
    "        print(link[\"href\"])\n",
    "        print(link.text.replace(\"\\t\",\"\").replace(\"\\n\",\"\")[1:len(link.text)+1])\n",
    "\n",
    "getLinkAndTitle()"
   ]
  },
  {
   "cell_type": "code",
   "execution_count": 16,
   "metadata": {},
   "outputs": [
    {
     "name": "stdout",
     "output_type": "stream",
     "text": [
      "[앵커] 자유한국당이 자체 개헌안의 세부사항을 공개하고 개헌 로드맵을 공식 제안했습니다. 그런데 그 내용이 대통령 개헌안은 물론 …JTBC1분전\n",
      "JTBC\n",
      "1분전\n",
      "걸그룹 레드벨벳의아이린이 북한 김정은 노동당 위원장 옆에 서서 기념사진을 찍은 것에 대해 탈북 예술가가 \"100% 의도된 자리  …중앙일보1분전\n",
      "중앙일보\n",
      "1분전\n",
      "(서울=뉴스1) 양새롬 기자 = 김정은 북한 노동당 위원장의 중국 방문 후 중국 내 북한 노동자들의 철수 움직임이 멈춘 것으로  …뉴스11분전\n",
      "뉴스1\n",
      "1분전\n",
      "(서울=연합뉴스) 김주형 기자 = 바른미래당 박주선 공동대표(오른쪽)가 4일 오전 국회에서 열린 최고위원·중진의원 연석회의에서  …연합뉴스1분전\n",
      "연합뉴스\n",
      "1분전\n",
      "(서울=뉴스1) 박정호 기자 = 김성태 자유한국당 원내대표가 4일 오전 서울 여의도 국회 정책위회의실에서 열린 원내대책회의에서  …뉴스11분전\n",
      "뉴스1\n",
      "1분전\n",
      "(서울=뉴스1) 나혜윤 기자 = 최근 유럽 등지에서 육류나 가공식품 등을 통해 E형간염 발생 사례가 급증하고 있는 가운데 국내에 …뉴스11분전\n",
      "뉴스1\n",
      "1분전\n",
      "(서울=연합뉴스) 한지훈 기자 = 국회 국방위원회 소속 정의당 김종대 의원은 4일 군인 정원을 정할 때 국무회의 심의를 거치도록 …연합뉴스1분전\n",
      "연합뉴스\n",
      "1분전\n",
      "여야의 개헌 협상이 지지부진한 가운데 자유한국당 김성태 원내대표(60)가 여야 원내대표와 청와대의 회동을 제안했다. 김 원내대표 …경향신문1분전\n",
      "경향신문\n",
      "1분전\n",
      "윤장현, 불출마 이유 관심 [헤럴드경제=이슈섹션] 윤장현 광주광역시장이 6.13지방선거에 출마하지 않겠다는 입장을 밝혔다. 윤  …헤럴드경제1분전\n",
      "헤럴드경제\n",
      "1분전\n",
      "(서울=뉴스1) 박정호 기자 = 김성태 자유한국당 원내대표가 4일 오전 서울 여의도 국회 정책위회의실에서 열린 원내대책회의에서  …뉴스11분전\n",
      "뉴스1\n",
      "1분전\n"
     ]
    }
   ],
   "source": [
    "def getContent():\n",
    "    dl=all.find_all(\"dl\")\n",
    "    for item2 in dl:\n",
    "        try:\n",
    "            content=item2.find(\"dd\")\n",
    "            print(content.text.replace(\"\\t\",\"\").replace(\"\\n\",\"\").split(\"...\")[0])\n",
    "            print(content.find(\"span\",{\"class\":\"writing\"}).text)\n",
    "            print(content.find(\"span\",{\"class\":\"date\"}).text)\n",
    "        except:\n",
    "            print(\"No Content\")\n",
    "\n",
    "getContent()"
   ]
  },
  {
   "cell_type": "code",
   "execution_count": null,
   "metadata": {},
   "outputs": [],
   "source": []
  }
 ],
 "metadata": {
  "kernelspec": {
   "display_name": "Python 3",
   "language": "python",
   "name": "python3"
  },
  "language_info": {
   "codemirror_mode": {
    "name": "ipython",
    "version": 3
   },
   "file_extension": ".py",
   "mimetype": "text/x-python",
   "name": "python",
   "nbconvert_exporter": "python",
   "pygments_lexer": "ipython3",
   "version": "3.6.4"
  }
 },
 "nbformat": 4,
 "nbformat_minor": 2
}
